{
 "cells": [
  {
   "cell_type": "code",
   "execution_count": 2,
   "metadata": {},
   "outputs": [],
   "source": [
    "##自动化测试工具\n",
    "##支持多种浏览器 爬虫中主要用来解决JavaScript渲染的问题\n",
    "from selenium import webdriver\n",
    "from selenium.webdriver.common.by import By\n",
    "from selenium.webdriver.common.keys import Keys\n",
    "from selenium.webdriver.support import expected_conditions as EC\n",
    "from selenium.webdriver.support.wait import WebDriverWait\n",
    "\n",
    "browser=webdriver.Chrome()\n",
    "try:\n",
    "    browser.get('https://www.baidu.com')\n",
    "    input=browser.find_element_by_id('kw')\n",
    "    input.send_keys('Python')#在浏览器输入“Python”关键字查询\n",
    "    input.send_keys(Keys.ENTER)#按回车  查询\n",
    "    wait=WebDriverWait(browser,10)\n",
    "    wait.until(EC.presence_of_element_located((By.ID,'content_left')))\n",
    "    print(browser.current_url)#当前网址\n",
    "    print(browser.get_cookies())#cookies\n",
    "    print(browser.page_source)#网页源代码\n",
    "finally:\n",
    "    browser.close()\n"
   ]
  },
  {
   "cell_type": "code",
   "execution_count": null,
   "metadata": {},
   "outputs": [],
   "source": []
  },
  {
   "cell_type": "code",
   "execution_count": null,
   "metadata": {},
   "outputs": [],
   "source": []
  },
  {
   "cell_type": "code",
   "execution_count": 1,
   "metadata": {},
   "outputs": [],
   "source": [
    "from selenium import webdriver\n",
    "\n",
    "browser=webdriver.Chrome()\n",
    "#browser=webdriver.Edge()\n",
    "# browser=webdriver.Firefox()\n",
    "# browser=webdriver.Safari()\n",
    "# browser=webdriver.PhantomJS()\n"
   ]
  },
  {
   "cell_type": "code",
   "execution_count": 0,
   "metadata": {},
   "outputs": [],
   "source": [
    "from selenium import webdriver\n",
    "\n",
    "browser=webdriver.Chrome()\n",
    "browser.get('https://www.taobao.com')\n",
    "input_first1=browser.find_element(By.ID,'q')#通过id 名来传\n",
    "print(input_first1)\n",
    "input_first=browser.find_element_by_id('q')\n",
    "input_second=browser.find_element_by_css_selector('#q')\n",
    "input_third=browser.find_element_by_xpath('//*[@id=\"q\"]')\n",
    "# print(input_first,input_second,input_third)\n",
    "browser.close()\n",
    "# find_element_by_id\n",
    "# find_element_by_css_selector\n",
    "# find_element_by_xpath\n",
    "# find_element_by_link_text\n",
    "# find_element_by_parent_link_text\n",
    "# find_element_by_parent_tag_name"
   ]
  },
  {
   "cell_type": "code",
   "execution_count": 0,
   "metadata": {},
   "outputs": [],
   "source": [
    "from selenium import webdriver\n",
    "\n",
    "browser=webdriver.Chrome()\n",
    "browser.get('https://www.taobao.com')\n",
    "lis=browser.find_elements_by_css_selector('.service-bd li')\n",
    "print(lis)\n",
    "browser.close()"
   ]
  },
  {
   "cell_type": "code",
   "execution_count": 0,
   "metadata": {},
   "outputs": [],
   "source": [
    "from selenium import webdriver\n",
    "import time\n",
    "#元素交互动作\n",
    "browser=webdriver.Chrome()\n",
    "browser.get('https://www.taobao.com')\n",
    "input=browser.find_element_by_id('q')\n",
    "input.send_keys('iPhone')#搜索框输入iphone\n",
    "time.sleep(1)#休息一秒\n",
    "input.clear()#清空\n",
    "input.send_keys('iPad')#输入ipad\n",
    "button=browser.find_element_by_class_name('btn-search')\n",
    "button.click()#点击按钮“搜索”"
   ]
  },
  {
   "cell_type": "code",
   "execution_count": 0,
   "metadata": {},
   "outputs": [],
   "source": [
    "from selenium import webdriver\n",
    "#执行JavaScript\n",
    "\n",
    "browser=webdriver.Chrome()\n",
    "browser.get('https://www.zhihu.com/explore')\n",
    "browser.execute_script('window.scrollTo(0,document.body.scrollHeight)')\n",
    "browser.execute_script('alert(\"To bottom\")')\n"
   ]
  },
  {
   "cell_type": "code",
   "execution_count": 0,
   "metadata": {},
   "outputs": [],
   "source": [
    "from selenium import webdriver\n",
    "\n",
    "browser=webdriver.Chrome()\n",
    "browser.get('https://www.zhihu.com/explore')\n",
    "logo=browser.find_element_by_id('zh-top-link-logo')\n",
    "print(logo)\n",
    "print(logo.get_attribute('class'))"
   ]
  },
  {
   "cell_type": "code",
   "execution_count": 0,
   "metadata": {},
   "outputs": [],
   "source": [
    "from selenium import webdriver\n",
    "\n",
    "browser=webdriver.Chrome()\n",
    "browser.implicitly_wait(10)#隐式等待10s 默认是0\n",
    "browser.get('https://www.zhihu.com/explore')\n",
    "input=browser.find_element_by_class_name('Tabs-link')\n",
    "print(input.text)\n",
    "print(input.location)\n",
    "print(input.tag_name)\n",
    "print(input.size)\n",
    "print(input.id)"
   ]
  },
  {
   "cell_type": "code",
   "execution_count": 0,
   "metadata": {},
   "outputs": [],
   "source": [
    "from selenium import webdriver\n",
    "import time\n",
    "browser=webdriver.Chrome()\n",
    "browser.get('https://www.baidu.com')\n",
    "browser.get('https://www.taobao.com')\n",
    "browser.get('https://www.python.org')\n",
    "browser.back()\n",
    "time.sleep(1)\n",
    "browser.forward()\n",
    "browser.close()"
   ]
  },
  {
   "cell_type": "code",
   "execution_count": 0,
   "metadata": {},
   "outputs": [],
   "source": [
    "from selenium import webdriver\n",
    "\n",
    "browser=webdriver.Chrome()\n",
    "browser.get('https://www.zhihu.com/explore')\n",
    "print(browser.get_cookies())\n",
    "browser.add_cookie({'name':'zhaodeze','domain':'www.zhihu.com','value':'geometry'})\n",
    "print(browser.get_cookies())\n",
    "browser.delete_all_cookies()\n",
    "print(browser.get_cookies())"
   ]
  },
  {
   "cell_type": "code",
   "execution_count": 0,
   "metadata": {},
   "outputs": [],
   "source": [
    "##浏览器选项卡管理\n",
    "from selenium import webdriver\n",
    "\n",
    "browser=webdriver.Chrome()\n",
    "browser.get('http://www.baidu.com')\n",
    "browser.execute_script('window.open()')\n",
    "print(browser.window_handles)\n",
    "handles=browser.window_handles\n",
    "browser.switch_to.window(handles[1])\n",
    "browser.get('https://www.zhihu.com/explore')\n",
    "time.sleep(1)\n",
    "browser.switch_to.window(handles[0])\n",
    "browser.get('https://www.taobao.com')"
   ]
  },
  {
   "cell_type": "code",
   "execution_count": 0,
   "metadata": {},
   "outputs": [],
   "source": [
    "#异常处理\n",
    "from selenium import webdriver\n",
    "from selenium.common.exceptions import NoSuchElementException,TimeoutException\n",
    "\n",
    "browser=webdriver.Chrome()\n",
    "try:\n",
    "    browser.get('https://www.baidu.com')\n",
    "except TimeoutException:\n",
    "    print(\"Time Out\")\n",
    "try:\n",
    "    browser.find_element_by_id('hello')\n",
    "except NoSuchElementException:\n",
    "    print(\"No Such Element\")\n",
    "finally:\n",
    "    browser.close()"
   ]
  },
  {
   "cell_type": "code",
   "execution_count": null,
   "metadata": {},
   "outputs": [],
   "source": []
  }
 ],
 "metadata": {
  "kernelspec": {
   "display_name": "Python 3",
   "language": "python",
   "name": "python3"
  },
  "language_info": {
   "codemirror_mode": {
    "name": "ipython",
    "version": 3
   },
   "file_extension": ".py",
   "mimetype": "text/x-python",
   "name": "python",
   "nbconvert_exporter": "python",
   "pygments_lexer": "ipython3",
   "version": "3.6.6"
  },
  "toc": {
   "base_numbering": 1,
   "nav_menu": {},
   "number_sections": true,
   "sideBar": true,
   "skip_h1_title": false,
   "title_cell": "Table of Contents",
   "title_sidebar": "Contents",
   "toc_cell": false,
   "toc_position": {},
   "toc_section_display": true,
   "toc_window_display": false
  },
  "varInspector": {
   "cols": {
    "lenName": 16,
    "lenType": 16,
    "lenVar": 40
   },
   "kernels_config": {
    "python": {
     "delete_cmd_postfix": "",
     "delete_cmd_prefix": "del ",
     "library": "var_list.py",
     "varRefreshCmd": "print(var_dic_list())"
    },
    "r": {
     "delete_cmd_postfix": ") ",
     "delete_cmd_prefix": "rm(",
     "library": "var_list.r",
     "varRefreshCmd": "cat(var_dic_list()) "
    }
   },
   "types_to_exclude": [
    "module",
    "function",
    "builtin_function_or_method",
    "instance",
    "_Feature"
   ],
   "window_display": false
  }
 },
 "nbformat": 4,
 "nbformat_minor": 4
}
