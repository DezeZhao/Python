{
 "cells": [
  {
   "cell_type": "code",
   "execution_count": 1,
   "metadata": {
    "collapsed": true
   },
   "outputs": [
    {
     "name": "stdout",
     "output_type": "stream",
     "text": [
      "<li class=\"item-0\">first item</li>\n",
      "        <li class=\"item-1\"><a href=\"link2.html\">second item</a></li>\n",
      "        <li class=\"item-0\" active=\"\"><a href=\"link3.html\"><span class=\"bold\">third item</span></a></li>\n",
      "        <li class=\"item-1\" active=\"\"><a href=\"link4.html\">fourth item</a></li>\n",
      "        <li class=\"item-0\"><a href=\"link5.html\">fifth item</a></li>\n",
      "    \n"
     ]
    }
   ],
   "source": [
    "from pyquery import PyQuery as pq\n",
    "\n",
    "html='''\n",
    "<div id=\"container\">\n",
    "    <ul class=\"list\">\n",
    "        <li class=\"item-0\">first item</li>\n",
    "        <li class=\"item-1\"><a href=\"link2.html\">second item</a></li>\n",
    "        <li class=\"item-0\" active><a href=\"link3.html\"><span class=\"bold\">third item</span></a></li>\n",
    "        <li class=\"item-1\" active><a href=\"link4.html\">fourth item</a></li>\n",
    "        <li class=\"item-0\"><a href=\"link5.html\">fifth item</a></li>\n",
    "    </ul>\n",
    "</div>\n",
    "'''\n",
    "doc=pq(html)\n",
    "print(doc('li'))"
   ]
  },
  {
   "cell_type": "code",
   "execution_count": 3,
   "metadata": {
    "collapsed": true
   },
   "outputs": [
    {
     "name": "stdout",
     "output_type": "stream",
     "text": [
      "<head><meta http-equiv=\"content-type\" content=\"text/html;charset=utf-8\"/><meta http-equiv=\"X-UA-Compatible\" content=\"IE=Edge\"/><meta content=\"always\" name=\"referrer\"/><link rel=\"stylesheet\" type=\"text/css\" href=\"http://s1.bdstatic.com/r/www/cache/bdorz/baidu.min.css\"/><title>ç¾åº¦ä¸ä¸ï¼ä½ å°±ç¥é</title></head> \n"
     ]
    }
   ],
   "source": [
    "from pyquery import PyQuery as pq\n",
    "#url初始化\n",
    "doc=pq(url='http://www.baidu.com')\n",
    "print(doc('head'))"
   ]
  },
  {
   "cell_type": "code",
   "execution_count": 5,
   "metadata": {
    "collapsed": true
   },
   "outputs": [
    {
     "name": "stdout",
     "output_type": "stream",
     "text": [
      "<li class=\"item-0\">\n",
      "            first item\n",
      "        </li>\n",
      "        <li class=\"item-1\">\n",
      "            <a href=\"link2.html\">\n",
      "                second item\n",
      "            </a>\n",
      "        </li>\n",
      "        <li class=\"item-0\" active=\"\">\n",
      "            <a href=\"link3.html\">\n",
      "                <span class=\"bold\">\n",
      "                    third item\n",
      "                </span>\n",
      "            </a>\n",
      "        </li>\n",
      "        <li class=\"item-1\" active=\"\">\n",
      "            <a href=\"link4.html\">\n",
      "                fourth item\n",
      "            </a>\n",
      "        </li>\n",
      "        <li class=\"item-0\">\n",
      "            <a href=\"link5.html\">\n",
      "                fifth item\n",
      "            </a>\n",
      "        </li>\n",
      "    \n"
     ]
    }
   ],
   "source": [
    "from pyquery import PyQuery as pq\n",
    "\n",
    "#文件初始化\n",
    "doc=pq(filename='demo.html')\n",
    "print(doc('li'))"
   ]
  },
  {
   "cell_type": "code",
   "execution_count": 17,
   "metadata": {
    "collapsed": true
   },
   "outputs": [
    {
     "name": "stdout",
     "output_type": "stream",
     "text": [
      "<li class=\"item-1\"><a href=\"link2.html\">second item</a></li>\n",
      "        <li class=\"item-0\">first item</li>\n",
      "        <li class=\"item-1 active\"><a href=\"link4.html\">fourth item</a></li>\n",
      "        <li class=\"item-0\"><a href=\"link5.html\">fifth item</a></li>\n",
      "    \n",
      "<li class=\"item-1 active\"><a href=\"link4.html\">fourth item</a></li>\n",
      "        \n"
     ]
    }
   ],
   "source": [
    "from pyquery import PyQuery as pq\n",
    "\n",
    "#CSS选择器\n",
    "html='''\n",
    "<div id=\"container\">\n",
    "    <ul class=\"list\">\n",
    "        <li class=\"item-0\">first item</li>\n",
    "        <li class=\"item-1\"><a href=\"link2.html\">second item</a></li>\n",
    "        <li class=\"item-0 active\"><a href=\"link3.html\"><span class=\"bold\">third item</span></a></li>\n",
    "        <li class=\"item-1 active\"><a href=\"link4.html\">fourth item</a></li>\n",
    "        <li class=\"item-0\"><a href=\"link5.html\">fifth item</a></li>\n",
    "    </ul>\n",
    "</div>\n",
    "'''\n",
    "doc=pq(html)\n",
    "#print(doc('#container .list li'))#class .  id #\n",
    "# items=doc('.list')\n",
    "# print(type(items))\n",
    "# print(items)\n",
    "# lis=items.find('li')\n",
    "# print(type(lis))\n",
    "# print(lis)\n",
    "##查找父元素\n",
    "# container=items.parent('#container')\n",
    "# container1=items.parents('#container')#所有祖先节点\n",
    "# print(type(container))\n",
    "# print(container)\n",
    "##查找兄弟元素\n",
    "li=doc('.list .item-0.active')#并列无空格\n",
    "print(li.siblings())\n",
    "print(li.siblings('.active'))#只筛选含有active的兄弟标签\n"
   ]
  },
  {
   "cell_type": "code",
   "execution_count": 32,
   "metadata": {
    "scrolled": true
   },
   "outputs": [
    {
     "name": "stdout",
     "output_type": "stream",
     "text": [
      "<class 'generator'>\n",
      "<li class=\"item-0\">first item</li>\n",
      "        \n",
      "<li class=\"item-1\"><a href=\"link2.html\">second item</a></li>\n",
      "        \n",
      "<li class=\"item-0 active\"><a href=\"link3.html\"><span class=\"bold\">third item</span></a></li>\n",
      "        \n",
      "<li class=\"item-1 active\"><a href=\"link4.html\">fourth item</a></li>\n",
      "        \n",
      "<li class=\"item-0\"><a href=\"link5.html\">fifth item</a></li>\n",
      "    \n",
      "<a href=\"link3.html\"><span class=\"bold\">third item</span></a>\n",
      "link3.html\n",
      "link3.html\n",
      "third item\n",
      "<span class=\"bold\">third item</span>\n",
      "<li class=\"item-0 active\"><a href=\"link3.html\"><span class=\"bold\">third item</span></a></li>\n",
      "        \n",
      "<li class=\"item-0\"><a href=\"link3.html\"><span class=\"bold\">third item</span></a></li>\n",
      "        \n",
      "<li class=\"item-0 active\"><a href=\"link3.html\"><span class=\"bold\">third item</span></a></li>\n",
      "        \n",
      "<li class=\"item-0 active\" name=\"link\"><a href=\"link3.html\"><span class=\"bold\">third item</span></a></li>\n",
      "        \n",
      "<li class=\"item-0 active\" name=\"link\" style=\"font-size: 14px\"><a href=\"link3.html\"><span class=\"bold\">third item</span></a></li>\n",
      "        \n",
      "hello world\n",
      "This is a paragraph\n",
      "hello world\n"
     ]
    }
   ],
   "source": [
    "#CSS选择器\n",
    "html='''\n",
    "<div id=\"container\">\n",
    "    <ul class=\"list\">\n",
    "        <li class=\"item-0\">first item</li>\n",
    "        <li class=\"item-1\"><a href=\"link2.html\">second item</a></li>\n",
    "        <li class=\"item-0 active\"><a href=\"link3.html\"><span class=\"bold\">third item</span></a></li>\n",
    "        <li class=\"item-1 active\"><a href=\"link4.html\">fourth item</a></li>\n",
    "        <li class=\"item-0\"><a href=\"link5.html\">fifth item</a></li>\n",
    "    </ul>\n",
    "</div>\n",
    "'''\n",
    "doc=pq(html)\n",
    "lis=doc('li').items()#genrator产生器\n",
    "print(type(lis))\n",
    "for li in lis:\n",
    "    print(li)\n",
    "    \n",
    "##获取属性\n",
    "a=doc('.item-0.active a')\n",
    "print(a)\n",
    "print(a.attr('href'))\n",
    "print(a.attr.href)#同上\n",
    "##获取文本\n",
    "print(a.text())#标签包含的文本\n",
    "##获取HTML\n",
    "print(a.html())\n",
    "\n",
    "##添加删除class\n",
    "li=doc('.item-0.active')\n",
    "print(li)\n",
    "li.removeClass('active')\n",
    "print(li)\n",
    "li.addClass('active')\n",
    "print(li)\n",
    "\n",
    "##attr css\n",
    "li.attr('name','link')\n",
    "print(li)\n",
    "li.css('font-size','14px')\n",
    "print(li)\n",
    "\n",
    "##remove方法\n",
    "html1='''\n",
    "<div class=\"wrap\">\n",
    "   hello world\n",
    "   <p> This is a paragraph</p>\n",
    "</div>\n",
    "'''\n",
    "doc1=pq(html1)\n",
    "wrap=doc1('.wrap')\n",
    "print(wrap.text())\n",
    "wrap.find('p').remove()\n",
    "print(wrap.text())\n"
   ]
  },
  {
   "cell_type": "code",
   "execution_count": null,
   "metadata": {},
   "outputs": [],
   "source": []
  }
 ],
 "metadata": {
  "kernelspec": {
   "display_name": "Python 3",
   "language": "python",
   "name": "python3"
  },
  "language_info": {
   "codemirror_mode": {
    "name": "ipython",
    "version": 3
   },
   "file_extension": ".py",
   "mimetype": "text/x-python",
   "name": "python",
   "nbconvert_exporter": "python",
   "pygments_lexer": "ipython3",
   "version": "3.6.6"
  },
  "toc": {
   "base_numbering": 1,
   "nav_menu": {},
   "number_sections": true,
   "sideBar": true,
   "skip_h1_title": false,
   "title_cell": "Table of Contents",
   "title_sidebar": "Contents",
   "toc_cell": false,
   "toc_position": {},
   "toc_section_display": true,
   "toc_window_display": false
  },
  "varInspector": {
   "cols": {
    "lenName": 16,
    "lenType": 16,
    "lenVar": 40
   },
   "kernels_config": {
    "python": {
     "delete_cmd_postfix": "",
     "delete_cmd_prefix": "del ",
     "library": "var_list.py",
     "varRefreshCmd": "print(var_dic_list())"
    },
    "r": {
     "delete_cmd_postfix": ") ",
     "delete_cmd_prefix": "rm(",
     "library": "var_list.r",
     "varRefreshCmd": "cat(var_dic_list()) "
    }
   },
   "types_to_exclude": [
    "module",
    "function",
    "builtin_function_or_method",
    "instance",
    "_Feature"
   ],
   "window_display": false
  }
 },
 "nbformat": 4,
 "nbformat_minor": 4
}
